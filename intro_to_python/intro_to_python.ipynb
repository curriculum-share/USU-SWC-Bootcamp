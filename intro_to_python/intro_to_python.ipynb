{
 "metadata": {
  "name": "intro_to_python"
 },
 "nbformat": 3,
 "nbformat_minor": 0,
 "worksheets": [
  {
   "cells": [
    {
     "cell_type": "markdown",
     "metadata": {},
     "source": [
      "#Why Python?"
     ]
    },
    {
     "cell_type": "markdown",
     "metadata": {},
     "source": [
      "* More flexibility than bash\n",
      "* Reproducibility\n",
      "* Open science"
     ]
    },
    {
     "cell_type": "markdown",
     "metadata": {},
     "source": [
      "###Why the IPython Notebook (ipynb)?"
     ]
    },
    {
     "cell_type": "markdown",
     "metadata": {},
     "source": [
      "* Interactive as a teaching tool\n",
      "* 7 things (+/- 2)\n",
      "* Everything in one place (text, code, images, links, video)\n",
      "* Easy to share with collaborators\n",
      "* Excellent for publishing\n",
      "\n",
      "But mostly just _cause ipynb is cool_."
     ]
    },
    {
     "cell_type": "markdown",
     "metadata": {},
     "source": [
      "#Motivation"
     ]
    },
    {
     "cell_type": "markdown",
     "metadata": {},
     "source": [
      "THE GOAL:\n",
      "\n",
      "Suppose you have a comma-separated data file (.csv) from your research. You want to read the data into a program, process/analyze/manipulate the data, and output to a different file.\n",
      "\n",
      "We are going to spend the next 75 minutes learning how to do this."
     ]
    },
    {
     "cell_type": "markdown",
     "metadata": {},
     "source": [
      "#The Basics"
     ]
    },
    {
     "cell_type": "markdown",
     "metadata": {},
     "source": [
      "* Variables: int, float, string\n",
      "* Data structures: lists\n",
      "* Reading and writing files"
     ]
    },
    {
     "cell_type": "markdown",
     "metadata": {},
     "source": [
      "###What is a variable?"
     ]
    },
    {
     "cell_type": "markdown",
     "metadata": {},
     "source": [
      "Introducing int, float, string:"
     ]
    },
    {
     "cell_type": "markdown",
     "metadata": {},
     "source": [
      "Performing basic operations:"
     ]
    },
    {
     "cell_type": "markdown",
     "metadata": {},
     "source": [
      "Switching between types:"
     ]
    },
    {
     "cell_type": "markdown",
     "metadata": {},
     "source": [
      "###What is a list?"
     ]
    },
    {
     "cell_type": "markdown",
     "metadata": {},
     "source": [
      "What does a list look like?"
     ]
    },
    {
     "cell_type": "markdown",
     "metadata": {},
     "source": [
      "How do I create a list?"
     ]
    },
    {
     "cell_type": "markdown",
     "metadata": {},
     "source": [
      "How do I populate a list?"
     ]
    },
    {
     "cell_type": "markdown",
     "metadata": {},
     "source": [
      "How do I access values in a list?"
     ]
    },
    {
     "cell_type": "markdown",
     "metadata": {},
     "source": [
      "An extra way to make a list: split()"
     ]
    },
    {
     "cell_type": "markdown",
     "metadata": {},
     "source": [
      "###Exercise"
     ]
    },
    {
     "cell_type": "markdown",
     "metadata": {},
     "source": [
      "Create a list that contains the names of everyone in your row. Note: yes, you may have to introduce yourself to people and ask their names. :)"
     ]
    },
    {
     "cell_type": "markdown",
     "metadata": {},
     "source": [
      "#####Extra Reading\n",
      "\n",
      "For more information on data types and data structures in Python, read [this tutorial](http://www.tutorialspoint.com/python/python_variable_types.htm)."
     ]
    },
    {
     "cell_type": "markdown",
     "metadata": {},
     "source": [
      "###How do I repeat?"
     ]
    },
    {
     "cell_type": "markdown",
     "metadata": {},
     "source": [
      "What is a for loop?"
     ]
    },
    {
     "cell_type": "markdown",
     "metadata": {},
     "source": [
      "How do I write a for loop?"
     ]
    },
    {
     "cell_type": "markdown",
     "metadata": {},
     "source": [
      "###How do I make decisions?"
     ]
    },
    {
     "cell_type": "markdown",
     "metadata": {},
     "source": [
      "What is a boolean?"
     ]
    },
    {
     "cell_type": "markdown",
     "metadata": {},
     "source": [
      "What is an if/else statement?"
     ]
    },
    {
     "cell_type": "markdown",
     "metadata": {},
     "source": [
      "How do I write an if/else statement?"
     ]
    },
    {
     "cell_type": "markdown",
     "metadata": {},
     "source": [
      "###Exercise"
     ]
    },
    {
     "cell_type": "markdown",
     "metadata": {},
     "source": [
      "Use the code from the previous exercise that creates a list of names. Loop over your list and print out only the names that contains the letter \"a\".\n",
      "\n",
      "Hint: Try breaking this problem into smaller pieces. Start by just getting the loop working so that it prints out all of the names. Once that works, add an if/else statement so that it prints out only names containing the letter \"a\"."
     ]
    },
    {
     "cell_type": "markdown",
     "metadata": {},
     "source": [
      "###How do I work with files?"
     ]
    },
    {
     "cell_type": "markdown",
     "metadata": {},
     "source": [
      "How do I open an existing file?"
     ]
    },
    {
     "cell_type": "markdown",
     "metadata": {},
     "source": [
      "How do I write to a file?"
     ]
    },
    {
     "cell_type": "markdown",
     "metadata": {},
     "source": [
      "But what if the file I want to write into already exists?"
     ]
    },
    {
     "cell_type": "markdown",
     "metadata": {},
     "source": [
      "#####Extra Reading\n",
      "\n",
      "For more on file input and oupt, see [this tutorial](http://www.tutorialspoint.com/python/python_files_io.htm)."
     ]
    },
    {
     "cell_type": "markdown",
     "metadata": {},
     "source": [
      "#The Goal"
     ]
    },
    {
     "cell_type": "markdown",
     "metadata": {},
     "source": [
      "Now, let's put all those pieces together.\n",
      "\n",
      "We have a data file called `practice_data.txt`. Your advisor (or boss) needs a copy of this data file that is formatted in an easily-readable manner. Also, you must include the sum of every row at the end of the row. Like this:\n",
      "\n",
      "    Trial 1:    1    1    1    3\n",
      "    \n",
      "    Trial 2:    2    2    2    6\n",
      "\n",
      "First, let's open the file and print out its contents so we can see what we are working with."
     ]
    },
    {
     "cell_type": "markdown",
     "metadata": {},
     "source": [
      "Next, let's actually store that data somewhere so that we can work with it. This is where lists come in."
     ]
    },
    {
     "cell_type": "markdown",
     "metadata": {},
     "source": [
      "Try summing the values in the list."
     ]
    },
    {
     "cell_type": "markdown",
     "metadata": {},
     "source": [
      "Now, let's build our output file. This is going to use string.format."
     ]
    },
    {
     "cell_type": "markdown",
     "metadata": {},
     "source": [
      "###Exercise"
     ]
    },
    {
     "cell_type": "markdown",
     "metadata": {},
     "source": [
      "Use the code from above to make a file that looks like the following:\n",
      "\n",
      "    Test 1:    1    2    3    2\n",
      "    \n",
      "    Test 2:    4    4    5    4.33\n",
      "\n",
      "    Test 3:    6    7    7    6.67\n",
      "\n",
      "The values at the end of the line are the average of the line. The input file you will be using is practice_data2.txt."
     ]
    },
    {
     "cell_type": "markdown",
     "metadata": {},
     "source": [
      "Hint: In order to round a decimal number, you can use the round() function like this:"
     ]
    },
    {
     "cell_type": "code",
     "collapsed": false,
     "input": [
      "avg = (1.5243 + 1.7876 + 2.4798)/3\n",
      "print avg\n",
      "rounded_avg = round(avg, 2)\n",
      "print rounded_avg"
     ],
     "language": "python",
     "metadata": {},
     "outputs": [
      {
       "output_type": "stream",
       "stream": "stdout",
       "text": [
        "1.93056666667\n",
        "1.93\n"
       ]
      }
     ],
     "prompt_number": 21
    },
    {
     "cell_type": "markdown",
     "metadata": {},
     "source": [
      "#Break!\n",
      "\n",
      "Take a break. Move around, have coffee/tea, talk to the people around you, and let your brain relax for 15 minutes."
     ]
    },
    {
     "cell_type": "markdown",
     "metadata": {},
     "source": [
      "#Exercise"
     ]
    },
    {
     "cell_type": "markdown",
     "metadata": {},
     "source": [
      "Now we are going to try the same sort of concept as earlier, except we are going to use a large dataset (that you wouldn't want to process by hand). Use `CO_pollution.csv` to "
     ]
    },
    {
     "cell_type": "markdown",
     "metadata": {},
     "source": [
      "#Motivation"
     ]
    },
    {
     "cell_type": "markdown",
     "metadata": {},
     "source": [
      "You want to visualize your data. You could do so in Excel or some other graphing environment... But you can write a program to generate your graph or visualization automatically.\n",
      "\n",
      "Why?\n",
      "\n",
      "* Easy to change and re-run\n",
      "* Reusable\n",
      "* Reproducible"
     ]
    },
    {
     "cell_type": "markdown",
     "metadata": {},
     "source": [
      "#Introduction to Plotting"
     ]
    },
    {
     "cell_type": "markdown",
     "metadata": {},
     "source": [
      "We will need to use libraries/packages for this section. These packages are just code that you can import and use in Python.\n",
      "\n",
      "* matplotlib\n",
      "* numpy\n",
      "* tweepy\n",
      "* urllib"
     ]
    },
    {
     "cell_type": "markdown",
     "metadata": {},
     "source": [
      "We are going to use matplotlib to try plotting data. "
     ]
    },
    {
     "cell_type": "markdown",
     "metadata": {},
     "source": [
      "Now, that's cool, but let's get the plot _inside_ the notebook as well. In order to do so, we have to restart our notebooks. So, save and exit. Then restart with --pylab=inline as an option."
     ]
    },
    {
     "cell_type": "markdown",
     "metadata": {},
     "source": [
      "For more cool plots and the code that generated them, see [this site](http://matplotlib.org/examples/pylab_examples/histogram_demo_extended.html)."
     ]
    }
   ],
   "metadata": {}
  }
 ]
}